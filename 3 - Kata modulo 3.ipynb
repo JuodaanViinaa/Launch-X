{
 "cells": [
  {
   "cell_type": "markdown",
   "id": "d861057c",
   "metadata": {},
   "source": [
    "Para este ejercicio, escribirás una lógica condicional que imprima una advertencia si un asteroide se acerca a la Tierra demasiado rápido. La velocidad del asteroide varía dependiendo de lo cerca que esté del sol, y cualquier velocidad superior a 25 kilómetros por segundo (km/s) merece una advertencia."
   ]
  },
  {
   "cell_type": "markdown",
   "id": "1bbe0623",
   "metadata": {},
   "source": [
    "Un asteroide se acerca, y viaja a una velocidad de 49 km/s."
   ]
  },
  {
   "cell_type": "code",
   "execution_count": 1,
   "id": "90477bcc",
   "metadata": {},
   "outputs": [
    {
     "name": "stdout",
     "output_type": "stream",
     "text": [
      "We're all doomed. The asteroid is coming.\n"
     ]
    }
   ],
   "source": [
    "# Añadir el código necesario para crear una variable que guarde la velocidad del asteroide.\n",
    "# Escribe una expresión de prueba para calcular si necesita una advertencia.\n",
    "# Agregue las instrucciones que se ejecutarán si la expresión de prueba es true o false.\n",
    "speed = 49\n",
    "\n",
    "if speed > 25:\n",
    "    print(\"We're all doomed. The asteroid is coming.\")\n",
    "else:\n",
    "    print(\"No need to worry. We're still doomed, but for different reasons.\")"
   ]
  },
  {
   "cell_type": "markdown",
   "id": "f2a50a8e",
   "metadata": {},
   "source": [
    "Si un asteroide entra en la atmósfera de la Tierra a una velocidad mayor o igual a 20 km/s, a veces produce un rayo de luz que se puede ver desde la Tierra. Escribe la lógica condicional que usa declaraciones if, else, y elif para alertar a las personas de todo el mundo que deben buscar un asteroide en el cielo. ¡Hay uno que se dirige a la tierra ahora a una velocidad de 19 km/s!"
   ]
  },
  {
   "cell_type": "code",
   "execution_count": 4,
   "id": "80220770",
   "metadata": {},
   "outputs": [
    {
     "name": "stdout",
     "output_type": "stream",
     "text": [
      "Do NOT look up to the sky. There's nothing there for you.\n"
     ]
    }
   ],
   "source": [
    "# Agrega el código para crear una variable para un asteroide que viaja a 19 km/s\n",
    "# Escribe varias expresiones de prueba para determinar si puedes ver el rayo de luz desde la tierra\n",
    "# Agrega las instrucciones que se ejecutarán si las expresiones de prueba son True o False\n",
    "\n",
    "speed = 19\n",
    "\n",
    "if 20 <= speed <= 25:\n",
    "    print(\"Look up to the sky and see.\")\n",
    "else:\n",
    "    print(\"Do NOT look up to the sky. There's nothing there for you.\")"
   ]
  },
  {
   "cell_type": "code",
   "execution_count": 8,
   "id": "7d48c5da",
   "metadata": {},
   "outputs": [
    {
     "name": "stdout",
     "output_type": "stream",
     "text": [
      "What is the current speed of the asteroid? 21\n",
      "Look up to the sky and see.\n"
     ]
    }
   ],
   "source": [
    "# Completo\n",
    "\n",
    "speed = float(input(\"What is the current speed of the asteroid? \"))\n",
    "\n",
    "if 20 <= speed <= 25:\n",
    "    print(\"Look up to the sky and see.\")\n",
    "elif speed > 25:\n",
    "    print(\"We're all doomed. The asteroid is coming.\")\n",
    "else:\n",
    "    print(\"No need to worry. We're still doomed, but for different reasons.\")"
   ]
  },
  {
   "cell_type": "markdown",
   "id": "57d3840a",
   "metadata": {},
   "source": [
    "En este ejercicio, aprenderás información más matizada sobre cuándo los asteroides representan un peligro para la Tierra, y utilizarás esa información para mejorar nuestro sistema de advertencia. Aquí está la nueva información que necesitas saber:\n",
    "\n",
    "* Los asteroides de menos de 25 metros en su dimensión más grande probablemente se quemarán a medida que entren en la atmósfera de la Tierra.\n",
    "\n",
    "* Si una pieza de un asteroide que es más grande que 25 metros pero más pequeña que 1000 metros golpeara la Tierra, causaría mucho daño.\n",
    "\n",
    "También discutimos en el ejercicio anterior que:\n",
    "\n",
    "* La velocidad del asteroide varía en función de lo cerca que esté del sol, y cualquier velocidad superior a 25 kilómetros por segundo (km/s) merece una advertencia.\n",
    "* Si un asteroide entra en la atmósfera de la Tierra a una velocidad mayor o igual a 20 km/s, a veces produce un rayo de luz que se puede ver desde la Tierra.\n",
    "\n",
    "Usando toda esta información, escribe un programa que emita la advertencia o información correcta a la gente de la Tierra, según la velocidad y el tamaño de un asteroide. Utiliza instrucciones if, else, y elif, así como los operadores and y or."
   ]
  },
  {
   "cell_type": "code",
   "execution_count": 10,
   "id": "089c31de",
   "metadata": {},
   "outputs": [
    {
     "name": "stdout",
     "output_type": "stream",
     "text": [
      "What is the speed of the asteroid? 26\n",
      "What is the size of the asteroid on its biggest dimension? 26\n",
      "Imminent doom. Please hug your loved ones.\n"
     ]
    }
   ],
   "source": [
    "# Agrega el código para crear nuevas variables para la velocidad y el tamaño del asteroide\n",
    "# Para probar el código, prueba con varias velocidades y tamaños\n",
    "# Escribe varias expresiones de prueba o combinaciones de expresiones de prueba para determinar qué mensaje se debe enviar a Tierra.\n",
    "speed = float(input(\"What is the speed of the asteroid? \"))\n",
    "size = float(input(\"What is the size of the asteroid on its biggest dimension? \"))\n",
    "\n",
    "if speed > 25 and size > 25:\n",
    "    print(\"Imminent doom. Please hug your loved ones.\")\n",
    "elif speed >= 20:\n",
    "    print(\"Look up to the sky and see.\")\n",
    "else:\n",
    "    print(\"Please stay calm. There's nothing to see here.\")"
   ]
  }
 ],
 "metadata": {
  "kernelspec": {
   "display_name": "Launch-X",
   "language": "python",
   "name": "launch-x"
  },
  "language_info": {
   "codemirror_mode": {
    "name": "ipython",
    "version": 3
   },
   "file_extension": ".py",
   "mimetype": "text/x-python",
   "name": "python",
   "nbconvert_exporter": "python",
   "pygments_lexer": "ipython3",
   "version": "3.10.2"
  }
 },
 "nbformat": 4,
 "nbformat_minor": 5
}
