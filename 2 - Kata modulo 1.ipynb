{
 "cells": [
  {
   "cell_type": "markdown",
   "id": "b256991a",
   "metadata": {},
   "source": [
    "## Imprimir la fecha"
   ]
  },
  {
   "cell_type": "code",
   "execution_count": 1,
   "id": "665f6a83",
   "metadata": {},
   "outputs": [
    {
     "name": "stdout",
     "output_type": "stream",
     "text": [
      "Today's date is 2022-02-06\n"
     ]
    }
   ],
   "source": [
    "import datetime\n",
    "\n",
    "print(f\"Today's date is {datetime.date.today()}\")"
   ]
  },
  {
   "cell_type": "markdown",
   "id": "56973ce2",
   "metadata": {},
   "source": [
    "## Convertidor de unidades"
   ]
  },
  {
   "cell_type": "code",
   "execution_count": 11,
   "id": "475b8b23",
   "metadata": {},
   "outputs": [
    {
     "name": "stdout",
     "output_type": "stream",
     "text": [
      "Press \"1\" to convert parsecs to light-years, or \"2\" to convert light-years to parsecs: 2\n",
      "Distance in light-years: 26.09248\n",
      "8.0 parsecs.\n"
     ]
    }
   ],
   "source": [
    "choice = input(\"Press \\\"1\\\" to convert parsecs to light-years, or \\\"2\\\" to convert light-years to parsecs: \")\n",
    "if choice == \"1\":\n",
    "    print(f\"{float(input('Distance in parsecs: ')) * 3.26156} light years.\")\n",
    "    \n",
    "else:\n",
    "    print(f\"{float(input('Distance in light-years: ')) / 3.26156} parsecs.\")"
   ]
  }
 ],
 "metadata": {
  "kernelspec": {
   "display_name": "Launch-X",
   "language": "python",
   "name": "launch-x"
  },
  "language_info": {
   "codemirror_mode": {
    "name": "ipython",
    "version": 3
   },
   "file_extension": ".py",
   "mimetype": "text/x-python",
   "name": "python",
   "nbconvert_exporter": "python",
   "pygments_lexer": "ipython3",
   "version": "3.10.2"
  }
 },
 "nbformat": 4,
 "nbformat_minor": 5
}
